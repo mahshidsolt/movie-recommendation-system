{
 "cells": [
  {
   "cell_type": "markdown",
   "id": "d9fd46b8",
   "metadata": {},
   "source": [
    "# Content-Based Filtering"
   ]
  },
  {
   "cell_type": "markdown",
   "id": "c8a0d00b",
   "metadata": {},
   "source": [
    "# Data mining"
   ]
  },
  {
   "cell_type": "code",
   "execution_count": 1,
   "id": "c82950c2",
   "metadata": {},
   "outputs": [],
   "source": [
    "import pandas as pd\n",
    "df = pd.read_csv(\"imdb_top_1000.csv\")"
   ]
  },
  {
   "cell_type": "markdown",
   "id": "396554a7",
   "metadata": {},
   "source": [
    "# Data cleaning"
   ]
  },
  {
   "cell_type": "markdown",
   "id": "506fd60d",
   "metadata": {},
   "source": [
    "droping columns of data that aren't necessary for recom sys"
   ]
  },
  {
   "cell_type": "code",
   "execution_count": 2,
   "id": "15af8a15",
   "metadata": {},
   "outputs": [],
   "source": [
    "df.drop(columns=['Poster_Link','Certificate','Overview'], inplace=True)"
   ]
  },
  {
   "cell_type": "markdown",
   "id": "88c5a053",
   "metadata": {},
   "source": [
    "157 fields had missing data; about 15%. safe to delete."
   ]
  },
  {
   "cell_type": "code",
   "execution_count": 3,
   "id": "249293e6",
   "metadata": {},
   "outputs": [
    {
     "name": "stdout",
     "output_type": "stream",
     "text": [
      "Series_Title       0\n",
      "Released_Year      0\n",
      "Runtime            0\n",
      "Genre              0\n",
      "IMDB_Rating        0\n",
      "Meta_score       157\n",
      "Director           0\n",
      "Star1              0\n",
      "Star2              0\n",
      "Star3              0\n",
      "Star4              0\n",
      "No_of_Votes        0\n",
      "Gross            169\n",
      "dtype: int64\n",
      "                 Series_Title Released_Year  Runtime  \\\n",
      "0    The Shawshank Redemption          1994  142 min   \n",
      "1               The Godfather          1972  175 min   \n",
      "2             The Dark Knight          2008  152 min   \n",
      "3      The Godfather: Part II          1974  202 min   \n",
      "4                12 Angry Men          1957   96 min   \n",
      "..                        ...           ...      ...   \n",
      "990              Giù la testa          1971  157 min   \n",
      "991            Kelly's Heroes          1970  144 min   \n",
      "992           The Jungle Book          1967   78 min   \n",
      "994        A Hard Day's Night          1964   87 min   \n",
      "997     From Here to Eternity          1953  118 min   \n",
      "\n",
      "                            Genre  IMDB_Rating  Meta_score  \\\n",
      "0                           Drama          9.3        80.0   \n",
      "1                    Crime, Drama          9.2       100.0   \n",
      "2            Action, Crime, Drama          9.0        84.0   \n",
      "3                    Crime, Drama          9.0        90.0   \n",
      "4                    Crime, Drama          9.0        96.0   \n",
      "..                            ...          ...         ...   \n",
      "990           Drama, War, Western          7.6        77.0   \n",
      "991        Adventure, Comedy, War          7.6        50.0   \n",
      "992  Animation, Adventure, Family          7.6        65.0   \n",
      "994        Comedy, Music, Musical          7.6        96.0   \n",
      "997           Drama, Romance, War          7.6        85.0   \n",
      "\n",
      "                 Director           Star1             Star2            Star3  \\\n",
      "0          Frank Darabont     Tim Robbins    Morgan Freeman       Bob Gunton   \n",
      "1    Francis Ford Coppola   Marlon Brando         Al Pacino       James Caan   \n",
      "2       Christopher Nolan  Christian Bale      Heath Ledger    Aaron Eckhart   \n",
      "3    Francis Ford Coppola       Al Pacino    Robert De Niro    Robert Duvall   \n",
      "4            Sidney Lumet     Henry Fonda       Lee J. Cobb    Martin Balsam   \n",
      "..                    ...             ...               ...              ...   \n",
      "990          Sergio Leone     Rod Steiger      James Coburn     Romolo Valli   \n",
      "991       Brian G. Hutton  Clint Eastwood     Telly Savalas      Don Rickles   \n",
      "992   Wolfgang Reitherman     Phil Harris   Sebastian Cabot      Louis Prima   \n",
      "994        Richard Lester     John Lennon    Paul McCartney  George Harrison   \n",
      "997        Fred Zinnemann  Burt Lancaster  Montgomery Clift     Deborah Kerr   \n",
      "\n",
      "                Star4  No_of_Votes        Gross  \n",
      "0      William Sadler      2343110   28,341,469  \n",
      "1        Diane Keaton      1620367  134,966,411  \n",
      "2       Michael Caine      2303232  534,858,444  \n",
      "3        Diane Keaton      1129952   57,300,000  \n",
      "4        John Fiedler       689845    4,360,000  \n",
      "..                ...          ...          ...  \n",
      "990       Maria Monti        30144      696,690  \n",
      "991  Carroll O'Connor        45338    1,378,435  \n",
      "992  Bruce Reitherman       166409  141,843,612  \n",
      "994       Ringo Starr        40351   13,780,024  \n",
      "997        Donna Reed        43374   30,500,000  \n",
      "\n",
      "[750 rows x 13 columns]\n"
     ]
    }
   ],
   "source": [
    "print(df.isnull().sum())\n",
    "#to-do: check if the dropped rows were important \n",
    "df.dropna(inplace=True)\n",
    "print(df)"
   ]
  },
  {
   "cell_type": "markdown",
   "id": "da77f84a",
   "metadata": {},
   "source": [
    "turn released year into numeric data\n",
    "and check the min and max value"
   ]
  },
  {
   "cell_type": "code",
   "execution_count": 4,
   "id": "701f121b",
   "metadata": {},
   "outputs": [
    {
     "name": "stdout",
     "output_type": "stream",
     "text": [
      "[1994. 1972. 2008. 1974. 1957. 2003. 1993. 2010. 1999. 2001. 1966. 2002.\n",
      " 1990. 1980. 1975. 2019. 2014. 1998. 1997. 1995. 1991. 1977. 1954. 2011.\n",
      " 2006. 2000. 1988. 1985. 1968. 1960. 1942. 1936. 1931. 2018. 2016. 2017.\n",
      " 2012. 2009. 1981. 1979. 1964. 2004. 1992. 1987. 1986. 1984. 1983. 1976.\n",
      " 1973. 1971. 1965. 1962. 1959. 1958. 1952. 1944. 1941. 1927. 2013. 2007.\n",
      " 2005. 1989. 1963. 1955. 1950. 1948. 2015. 1996. 1982. 1978. 1967. 1951.\n",
      " 1949. 1940. 1939. 1934. 1970. 1969. 1961. 1946. 1930. 1925. 1947. 1938.\n",
      " 1933. 1935. 1953.]\n",
      "1925.0\n",
      "2019.0\n"
     ]
    }
   ],
   "source": [
    "# print(df.where(df[\"Released_Year\"]=='PG').dropna())\n",
    "df[\"Released_Year\"]=pd.to_numeric(df[\"Released_Year\"],errors=\"coerce\")\n",
    "df = df.dropna(subset=[\"Released_Year\"])\n",
    "print(df[\"Released_Year\"].unique())\n",
    "print(df[\"Released_Year\"].min())\n",
    "print(df[\"Released_Year\"].max())"
   ]
  },
  {
   "cell_type": "markdown",
   "id": "9b83deeb",
   "metadata": {},
   "source": [
    "## feature extraction"
   ]
  },
  {
   "cell_type": "markdown",
   "id": "340dfe7d",
   "metadata": {},
   "source": [
    "extracting feature \"Decade\" and assigning numerical values for each decade."
   ]
  },
  {
   "cell_type": "code",
   "execution_count": 5,
   "id": "d5eb334c",
   "metadata": {},
   "outputs": [
    {
     "name": "stdout",
     "output_type": "stream",
     "text": [
      "0      8\n",
      "1      6\n",
      "2      9\n",
      "3      6\n",
      "4      4\n",
      "      ..\n",
      "990    6\n",
      "991    6\n",
      "992    5\n",
      "994    5\n",
      "997    4\n",
      "Name: Decade, Length: 749, dtype: int16\n"
     ]
    }
   ],
   "source": [
    "df[\"Decade\"]= ((df[\"Released_Year\"]-1920) // 10) + 1\n",
    "df[\"Decade\"]=df[\"Decade\"].astype(\"int16\")\n",
    "print(df[\"Decade\"])"
   ]
  },
  {
   "cell_type": "markdown",
   "id": "66db5eae",
   "metadata": {},
   "source": [
    "turn Runtime column readable. 142 min is turned into 142."
   ]
  },
  {
   "cell_type": "code",
   "execution_count": 6,
   "id": "a32e24ff",
   "metadata": {},
   "outputs": [
    {
     "name": "stdout",
     "output_type": "stream",
     "text": [
      "0      142\n",
      "1      175\n",
      "2      152\n",
      "3      202\n",
      "4       96\n",
      "      ... \n",
      "990    157\n",
      "991    144\n",
      "992     78\n",
      "994     87\n",
      "997    118\n",
      "Name: Runtime, Length: 749, dtype: int16\n"
     ]
    }
   ],
   "source": [
    "df[\"Runtime\"]=df[\"Runtime\"].str.replace(' min','').astype(\"int16\")\n",
    "print(df[\"Runtime\"])"
   ]
  },
  {
   "cell_type": "markdown",
   "id": "91a03222",
   "metadata": {},
   "source": [
    "using MultiLabelBinarizer to turn genres into numerical label values"
   ]
  },
  {
   "cell_type": "code",
   "execution_count": 7,
   "id": "87a8c85a",
   "metadata": {},
   "outputs": [],
   "source": [
    "from sklearn.preprocessing import MultiLabelBinarizer\n",
    "# split genres by comma \n",
    "df[\"Genre\"] = df[\"Genre\"].astype(str).str.split(\", \")"
   ]
  },
  {
   "cell_type": "code",
   "execution_count": 8,
   "id": "c589e2a1",
   "metadata": {},
   "outputs": [
    {
     "name": "stdout",
     "output_type": "stream",
     "text": [
      "                 Series_Title  Released_Year  Runtime  \\\n",
      "0    The Shawshank Redemption         1994.0      142   \n",
      "1               The Godfather         1972.0      175   \n",
      "2             The Dark Knight         2008.0      152   \n",
      "3      The Godfather: Part II         1974.0      202   \n",
      "4                12 Angry Men         1957.0       96   \n",
      "..                        ...            ...      ...   \n",
      "744              Giù la testa         1971.0      157   \n",
      "745            Kelly's Heroes         1970.0      144   \n",
      "746           The Jungle Book         1967.0       78   \n",
      "747        A Hard Day's Night         1964.0       87   \n",
      "748     From Here to Eternity         1953.0      118   \n",
      "\n",
      "                              Genre  IMDB_Rating  Meta_score  \\\n",
      "0                           [Drama]          9.3        80.0   \n",
      "1                    [Crime, Drama]          9.2       100.0   \n",
      "2            [Action, Crime, Drama]          9.0        84.0   \n",
      "3                    [Crime, Drama]          9.0        90.0   \n",
      "4                    [Crime, Drama]          9.0        96.0   \n",
      "..                              ...          ...         ...   \n",
      "744           [Drama, War, Western]          7.6        77.0   \n",
      "745        [Adventure, Comedy, War]          7.6        50.0   \n",
      "746  [Animation, Adventure, Family]          7.6        65.0   \n",
      "747        [Comedy, Music, Musical]          7.6        96.0   \n",
      "748           [Drama, Romance, War]          7.6        85.0   \n",
      "\n",
      "                 Director           Star1             Star2            Star3  \\\n",
      "0          Frank Darabont     Tim Robbins    Morgan Freeman       Bob Gunton   \n",
      "1    Francis Ford Coppola   Marlon Brando         Al Pacino       James Caan   \n",
      "2       Christopher Nolan  Christian Bale      Heath Ledger    Aaron Eckhart   \n",
      "3    Francis Ford Coppola       Al Pacino    Robert De Niro    Robert Duvall   \n",
      "4            Sidney Lumet     Henry Fonda       Lee J. Cobb    Martin Balsam   \n",
      "..                    ...             ...               ...              ...   \n",
      "744          Sergio Leone     Rod Steiger      James Coburn     Romolo Valli   \n",
      "745       Brian G. Hutton  Clint Eastwood     Telly Savalas      Don Rickles   \n",
      "746   Wolfgang Reitherman     Phil Harris   Sebastian Cabot      Louis Prima   \n",
      "747        Richard Lester     John Lennon    Paul McCartney  George Harrison   \n",
      "748        Fred Zinnemann  Burt Lancaster  Montgomery Clift     Deborah Kerr   \n",
      "\n",
      "                Star4  No_of_Votes        Gross  Decade  \n",
      "0      William Sadler      2343110   28,341,469       8  \n",
      "1        Diane Keaton      1620367  134,966,411       6  \n",
      "2       Michael Caine      2303232  534,858,444       9  \n",
      "3        Diane Keaton      1129952   57,300,000       6  \n",
      "4        John Fiedler       689845    4,360,000       4  \n",
      "..                ...          ...          ...     ...  \n",
      "744       Maria Monti        30144      696,690       6  \n",
      "745  Carroll O'Connor        45338    1,378,435       6  \n",
      "746  Bruce Reitherman       166409  141,843,612       5  \n",
      "747       Ringo Starr        40351   13,780,024       5  \n",
      "748        Donna Reed        43374   30,500,000       4  \n",
      "\n",
      "[749 rows x 14 columns]\n"
     ]
    }
   ],
   "source": [
    "df= df.dropna()\n",
    "df = df.reset_index(drop=True)\n",
    "print(df)"
   ]
  },
  {
   "cell_type": "code",
   "execution_count": 9,
   "id": "aa70d5f6",
   "metadata": {},
   "outputs": [
    {
     "name": "stdout",
     "output_type": "stream",
     "text": [
      "749\n",
      "749\n",
      "                 Series_Title  Released_Year  Runtime  \\\n",
      "0    The Shawshank Redemption         1994.0      142   \n",
      "1               The Godfather         1972.0      175   \n",
      "2             The Dark Knight         2008.0      152   \n",
      "3      The Godfather: Part II         1974.0      202   \n",
      "4                12 Angry Men         1957.0       96   \n",
      "..                        ...            ...      ...   \n",
      "744              Giù la testa         1971.0      157   \n",
      "745            Kelly's Heroes         1970.0      144   \n",
      "746           The Jungle Book         1967.0       78   \n",
      "747        A Hard Day's Night         1964.0       87   \n",
      "748     From Here to Eternity         1953.0      118   \n",
      "\n",
      "                              Genre  IMDB_Rating  Meta_score  \\\n",
      "0                           [Drama]          9.3        80.0   \n",
      "1                    [Crime, Drama]          9.2       100.0   \n",
      "2            [Action, Crime, Drama]          9.0        84.0   \n",
      "3                    [Crime, Drama]          9.0        90.0   \n",
      "4                    [Crime, Drama]          9.0        96.0   \n",
      "..                              ...          ...         ...   \n",
      "744           [Drama, War, Western]          7.6        77.0   \n",
      "745        [Adventure, Comedy, War]          7.6        50.0   \n",
      "746  [Animation, Adventure, Family]          7.6        65.0   \n",
      "747        [Comedy, Music, Musical]          7.6        96.0   \n",
      "748           [Drama, Romance, War]          7.6        85.0   \n",
      "\n",
      "                 Director           Star1             Star2            Star3  \\\n",
      "0          Frank Darabont     Tim Robbins    Morgan Freeman       Bob Gunton   \n",
      "1    Francis Ford Coppola   Marlon Brando         Al Pacino       James Caan   \n",
      "2       Christopher Nolan  Christian Bale      Heath Ledger    Aaron Eckhart   \n",
      "3    Francis Ford Coppola       Al Pacino    Robert De Niro    Robert Duvall   \n",
      "4            Sidney Lumet     Henry Fonda       Lee J. Cobb    Martin Balsam   \n",
      "..                    ...             ...               ...              ...   \n",
      "744          Sergio Leone     Rod Steiger      James Coburn     Romolo Valli   \n",
      "745       Brian G. Hutton  Clint Eastwood     Telly Savalas      Don Rickles   \n",
      "746   Wolfgang Reitherman     Phil Harris   Sebastian Cabot      Louis Prima   \n",
      "747        Richard Lester     John Lennon    Paul McCartney  George Harrison   \n",
      "748        Fred Zinnemann  Burt Lancaster  Montgomery Clift     Deborah Kerr   \n",
      "\n",
      "     ... Horror  Music Musical  Mystery  Romance  Sci-Fi  Sport  Thriller  \\\n",
      "0    ...      0      0       0        0        0       0      0         0   \n",
      "1    ...      0      0       0        0        0       0      0         0   \n",
      "2    ...      0      0       0        0        0       0      0         0   \n",
      "3    ...      0      0       0        0        0       0      0         0   \n",
      "4    ...      0      0       0        0        0       0      0         0   \n",
      "..   ...    ...    ...     ...      ...      ...     ...    ...       ...   \n",
      "744  ...      0      0       0        0        0       0      0         0   \n",
      "745  ...      0      0       0        0        0       0      0         0   \n",
      "746  ...      0      0       0        0        0       0      0         0   \n",
      "747  ...      0      1       1        0        0       0      0         0   \n",
      "748  ...      0      0       0        0        1       0      0         0   \n",
      "\n",
      "     War  Western  \n",
      "0      0        0  \n",
      "1      0        0  \n",
      "2      0        0  \n",
      "3      0        0  \n",
      "4      0        0  \n",
      "..   ...      ...  \n",
      "744    1        1  \n",
      "745    1        0  \n",
      "746    0        0  \n",
      "747    0        0  \n",
      "748    1        0  \n",
      "\n",
      "[749 rows x 35 columns]\n"
     ]
    }
   ],
   "source": [
    "mlb = MultiLabelBinarizer()\n",
    "# encode them into vectors of 0s and 1s\n",
    "genre_encoded = mlb.fit_transform(df[\"Genre\"])\n",
    "print(len(genre_encoded))\n",
    "# create a new data frame with the vectors and labels of genres\n",
    "genre_df = pd.DataFrame(genre_encoded, columns=mlb.classes_)\n",
    "print(len(genre_df))\n",
    "# concatinate the two DFs\n",
    "df = pd.concat([df, genre_df], axis=1)\n",
    "df= df.dropna()\n",
    "df = df.reset_index(drop=True)\n",
    "print(df)"
   ]
  },
  {
   "cell_type": "markdown",
   "id": "7fb41874",
   "metadata": {},
   "source": [
    "setting dtype of IMDB_Rating and Meta_score"
   ]
  },
  {
   "cell_type": "code",
   "execution_count": 10,
   "id": "6bc668e5",
   "metadata": {},
   "outputs": [
    {
     "name": "stdout",
     "output_type": "stream",
     "text": [
      "0\n",
      "0\n",
      "0    9.296875\n",
      "1    9.203125\n",
      "2    9.000000\n",
      "3    9.000000\n",
      "4    9.000000\n",
      "5    8.898438\n",
      "6    8.898438\n",
      "7    8.898438\n",
      "8    8.796875\n",
      "9    8.796875\n",
      "Name: IMDB_Rating, dtype: float16\n",
      "0     80\n",
      "1    100\n",
      "2     84\n",
      "3     90\n",
      "4     96\n",
      "5     94\n",
      "6     94\n",
      "7     94\n",
      "8     74\n",
      "9     66\n",
      "Name: Meta_score, dtype: int8\n"
     ]
    },
    {
     "name": "stderr",
     "output_type": "stream",
     "text": [
      "C:\\Users\\sahar-rayane\\AppData\\Roaming\\Python\\Python312\\site-packages\\pandas\\io\\formats\\format.py:1458: RuntimeWarning: overflow encountered in cast\n",
      "  has_large_values = (abs_vals > 1e6).any()\n"
     ]
    }
   ],
   "source": [
    "print(df[\"IMDB_Rating\"].isna().sum())\n",
    "print(df[\"Meta_score\"].isna().sum())\n",
    "df[\"IMDB_Rating\"]= df[\"IMDB_Rating\"].astype(\"float16\")\n",
    "df[\"Meta_score\"]= df[\"Meta_score\"].astype(\"int8\")\n",
    "print(df[\"IMDB_Rating\"].head(10))\n",
    "print(df[\"Meta_score\"].head(10))"
   ]
  },
  {
   "cell_type": "markdown",
   "id": "b19b0b5e",
   "metadata": {},
   "source": [
    "checking the number of unique directors. every director appears ~1.7 on avg in the dataset. not a strong feature to compare fields."
   ]
  },
  {
   "cell_type": "code",
   "execution_count": 11,
   "id": "43541a5e",
   "metadata": {},
   "outputs": [
    {
     "name": "stdout",
     "output_type": "stream",
     "text": [
      "426\n"
     ]
    }
   ],
   "source": [
    "print(df[\"Director\"].nunique())"
   ]
  },
  {
   "cell_type": "markdown",
   "id": "33212c23",
   "metadata": {},
   "source": [
    "checking no of unique actors"
   ]
  },
  {
   "cell_type": "code",
   "execution_count": 12,
   "id": "67e795f6",
   "metadata": {},
   "outputs": [
    {
     "name": "stdout",
     "output_type": "stream",
     "text": [
      "Number of unique actors: 2030\n"
     ]
    }
   ],
   "source": [
    "# print(df[[\"Star1\",\"Star2\",\"Star3\",\"Star4\"]].nunique())\n",
    "df[\"Stars\"] = df[[\"Star1\", \"Star2\", \"Star3\", \"Star4\"]].values.tolist()\n",
    "# print(df[\"Stars\"].head(10))\n",
    "unique_stars = pd.unique(df[[\"Star1\", \"Star2\", \"Star3\", \"Star4\"]].values.ravel())\n",
    "print(\"Number of unique actors:\", len(unique_stars))"
   ]
  },
  {
   "cell_type": "markdown",
   "id": "c1368e70",
   "metadata": {},
   "source": [
    "no of unique stars and directors is too much that's about 2500 fields in a sparse matrix. building the system on Genres + Decade + Runtime + IMDB_Rating"
   ]
  },
  {
   "cell_type": "markdown",
   "id": "f61279a9",
   "metadata": {},
   "source": [
    "scaling runtime and imdb rating"
   ]
  },
  {
   "cell_type": "code",
   "execution_count": 13,
   "id": "1e571b4c",
   "metadata": {},
   "outputs": [],
   "source": [
    "from sklearn.preprocessing import MinMaxScaler\n",
    "scaler = MinMaxScaler()\n",
    "numeric_matrix = scaler.fit_transform(df[['Runtime','IMDB_Rating']])\n",
    "numeric_df = pd.DataFrame(numeric_matrix, columns=['Runtime_scaled','Rating_scaled'])"
   ]
  },
  {
   "cell_type": "markdown",
   "id": "bb852add",
   "metadata": {},
   "source": [
    "onehotencode decade"
   ]
  },
  {
   "cell_type": "code",
   "execution_count": 14,
   "id": "a54f866e",
   "metadata": {},
   "outputs": [],
   "source": [
    "from sklearn.preprocessing import OneHotEncoder\n",
    "ohe = OneHotEncoder(sparse_output= False)\n",
    "decade_matrix = ohe.fit_transform(df[['Decade']])\n",
    "decade_df = pd.DataFrame(decade_matrix, columns=ohe.get_feature_names_out(['Decade']))"
   ]
  },
  {
   "cell_type": "markdown",
   "id": "d1da3fd5",
   "metadata": {},
   "source": [
    "# final features matrix"
   ]
  },
  {
   "cell_type": "code",
   "execution_count": 15,
   "id": "cedf394d",
   "metadata": {},
   "outputs": [],
   "source": [
    "from numpy import hstack\n",
    "X = pd.concat([genre_df, decade_df, numeric_df], axis=1)"
   ]
  },
  {
   "cell_type": "markdown",
   "id": "1f6fdb84",
   "metadata": {},
   "source": [
    "# similarity"
   ]
  },
  {
   "cell_type": "code",
   "execution_count": 16,
   "id": "857a5392",
   "metadata": {},
   "outputs": [
    {
     "name": "stdout",
     "output_type": "stream",
     "text": [
      "[[1.         0.59880561 0.51365694 ... 0.00499497 0.01140651 0.31083551]\n",
      " [0.59880561 1.         0.67175193 ... 0.0063072  0.01440312 0.28126275]\n",
      " [0.51365694 0.67175193 1.         ... 0.00458387 0.01046772 0.2537999 ]\n",
      " ...\n",
      " [0.00499497 0.0063072  0.00458387 ... 1.         0.25066143 0.00291978]\n",
      " [0.01140651 0.01440312 0.01046772 ... 0.25066143 1.         0.0066676 ]\n",
      " [0.31083551 0.28126275 0.2537999  ... 0.00291978 0.0066676  1.        ]]\n"
     ]
    }
   ],
   "source": [
    "from sklearn.metrics.pairwise import cosine_similarity\n",
    "similarity_matrix = cosine_similarity(X)\n",
    "print(similarity_matrix)"
   ]
  },
  {
   "cell_type": "markdown",
   "id": "9e3c012a",
   "metadata": {},
   "source": [
    "## step 1: Find index of user's input favorite"
   ]
  },
  {
   "cell_type": "code",
   "execution_count": 19,
   "id": "2fa6cee1",
   "metadata": {},
   "outputs": [
    {
     "name": "stdout",
     "output_type": "stream",
     "text": [
      "Movie 'Slumdog Millionaire' found at index 234\n"
     ]
    }
   ],
   "source": [
    "user_favorite = input(\"Enter title of your favorite movie: \")\n",
    "row = df[df[\"Series_Title\"].str.lower()==user_favorite.lower()]\n",
    "if (row.empty):\n",
    "    print(\"Your favorite movie was not found in the dataset.\")\n",
    "else:\n",
    "    index= row.index[0]\n",
    "    print(f\"Movie '{user_favorite}' found at index {index}\")"
   ]
  },
  {
   "cell_type": "code",
   "execution_count": 20,
   "id": "7fddeff2",
   "metadata": {},
   "outputs": [
    {
     "name": "stdout",
     "output_type": "stream",
     "text": [
      "You might also like:\n",
      "- Bom Yeoareum Gaeul Gyeoul Geurigo Bom\n",
      "- The Notebook\n",
      "- Pride & Prejudice\n",
      "- Fa yeung nin wah\n",
      "- Brokeback Mountain\n"
     ]
    }
   ],
   "source": [
    "import numpy as np\n",
    "sorted_similarity_matrix = np.argsort(-similarity_matrix, axis=1)\n",
    "top_indices_movies= sorted_similarity_matrix[index][1:6]\n",
    "top_titles= df.iloc[top_indices_movies][\"Series_Title\"].tolist()\n",
    "print(\"You might also like:\")\n",
    "for title in top_titles:\n",
    "    print(\"-\", title)\n",
    "# print(top_titles)"
   ]
  }
 ],
 "metadata": {
  "kernelspec": {
   "display_name": "Python 3",
   "language": "python",
   "name": "python3"
  },
  "language_info": {
   "codemirror_mode": {
    "name": "ipython",
    "version": 3
   },
   "file_extension": ".py",
   "mimetype": "text/x-python",
   "name": "python",
   "nbconvert_exporter": "python",
   "pygments_lexer": "ipython3",
   "version": "3.12.2"
  }
 },
 "nbformat": 4,
 "nbformat_minor": 5
}
